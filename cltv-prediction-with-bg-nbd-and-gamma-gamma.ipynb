{
 "cells": [
  {
   "cell_type": "markdown",
   "id": "c2cd1851",
   "metadata": {
    "papermill": {
     "duration": 0.012304,
     "end_time": "2023-10-18T09:05:39.623284",
     "exception": false,
     "start_time": "2023-10-18T09:05:39.610980",
     "status": "completed"
    },
    "tags": []
   },
   "source": [
    "## CRM ANALYTICS\n",
    "\n",
    "\n",
    "\n"
   ]
  },
  {
   "cell_type": "markdown",
   "id": "d8a6a5c5",
   "metadata": {
    "papermill": {
     "duration": 0.011001,
     "end_time": "2023-10-18T09:05:39.643961",
     "exception": false,
     "start_time": "2023-10-18T09:05:39.632960",
     "status": "completed"
    },
    "tags": []
   },
   "source": [
    "Customer Relationship Management (CRM) encompasses the process of managing and enhancing interactions with a business's customers. Its aim is to increase customer satisfaction, foster loyalty, and boost the company's revenues. CRM analytics provides businesses with the opportunity to gain deeper insights into their customers by analyzing customer data extensively. This analysis assists in understanding customer preferences, shopping habits, and more. As a result, businesses can enhance customer relationships by creating personalized marketing strategies."
   ]
  },
  {
   "cell_type": "markdown",
   "id": "d7f5f96e",
   "metadata": {
    "papermill": {
     "duration": 0.010071,
     "end_time": "2023-10-18T09:05:39.663653",
     "exception": false,
     "start_time": "2023-10-18T09:05:39.653582",
     "status": "completed"
    },
    "tags": []
   },
   "source": [
    "## CUSTOMER LIFETIME VALUE (CLV)"
   ]
  },
  {
   "cell_type": "markdown",
   "id": "54645635",
   "metadata": {
    "papermill": {
     "duration": 0.009693,
     "end_time": "2023-10-18T09:05:39.685130",
     "exception": false,
     "start_time": "2023-10-18T09:05:39.675437",
     "status": "completed"
    },
    "tags": []
   },
   "source": [
    "\n",
    "Customer Lifetime Value (CLV) represents the total value that a customer provides to a business throughout their relationship. CLV helps estimate the revenue a customer is expected to generate for the business from their initial purchase to their final one. Businesses can focus on delivering more value to customers while managing customer relationships by considering CLV."
   ]
  },
  {
   "cell_type": "markdown",
   "id": "d71b8b16",
   "metadata": {
    "papermill": {
     "duration": 0.009877,
     "end_time": "2023-10-18T09:05:39.704998",
     "exception": false,
     "start_time": "2023-10-18T09:05:39.695121",
     "status": "completed"
    },
    "tags": []
   },
   "source": [
    "## CUSTOMER LIFETIME VALUE PREDICTION (CLTV)"
   ]
  },
  {
   "cell_type": "markdown",
   "id": "a99ef321",
   "metadata": {
    "papermill": {
     "duration": 0.017827,
     "end_time": "2023-10-18T09:05:39.743001",
     "exception": false,
     "start_time": "2023-10-18T09:05:39.725174",
     "status": "completed"
    },
    "tags": []
   },
   "source": [
    "Customer Lifetime Value Prediction (CLTV) is an analytical method used to forecast a customer's future value. This prediction leverages historical data to understand a customer's future purchasing behavior and spending habits. Businesses can strive to increase their customers' lifetime value by creating customer-specific marketing strategies and enhancing customer satisfaction."
   ]
  },
  {
   "cell_type": "markdown",
   "id": "3d8de282",
   "metadata": {
    "papermill": {
     "duration": 0.016812,
     "end_time": "2023-10-18T09:05:39.779353",
     "exception": false,
     "start_time": "2023-10-18T09:05:39.762541",
     "status": "completed"
    },
    "tags": []
   },
   "source": [
    "## CLTV CALCULATION PROCESS"
   ]
  },
  {
   "cell_type": "markdown",
   "id": "7687e3cb",
   "metadata": {
    "papermill": {
     "duration": 0.01025,
     "end_time": "2023-10-18T09:05:39.798912",
     "exception": false,
     "start_time": "2023-10-18T09:05:39.788662",
     "status": "completed"
    },
    "tags": []
   },
   "source": [
    "\n",
    "When calculating Customer Lifetime Value (CLTV), we use two separate models: the BG/NBD Model and the Gamma Gamma Submodel. As a result, CLTV is derived from the combination of these two models, as follows:\n",
    "\n",
    "CLTV = BG/NBD Model * Gamma Gamma Submodel\n",
    "\n",
    "The BG/NBD Model probabilistically models customers' purchasing behavior. This model considers two processes: the Purchase Process and the Purchase-Until-Death Process.\n",
    "\n",
    "The Gamma Gamma Submodel is used to predict a customer's average revenue per transaction."
   ]
  },
  {
   "cell_type": "markdown",
   "id": "df3568f4",
   "metadata": {
    "papermill": {
     "duration": 0.010417,
     "end_time": "2023-10-18T09:05:39.819996",
     "exception": false,
     "start_time": "2023-10-18T09:05:39.809579",
     "status": "completed"
    },
    "tags": []
   },
   "source": [
    "*If you would like to do a more in-depth reading about CRM Analysis: \n",
    ">https://medium.com/@aylinozgur/customer-relationship-management-crm-fea8a93a02d7*"
   ]
  },
  {
   "cell_type": "markdown",
   "id": "aedbd5a5",
   "metadata": {
    "papermill": {
     "duration": 0.010075,
     "end_time": "2023-10-18T09:05:39.840382",
     "exception": false,
     "start_time": "2023-10-18T09:05:39.830307",
     "status": "completed"
    },
    "tags": []
   },
   "source": [
    "## *BUSINESS PROBLEM*"
   ]
  },
  {
   "cell_type": "markdown",
   "id": "70eaeac5",
   "metadata": {
    "papermill": {
     "duration": 0.01036,
     "end_time": "2023-10-18T09:05:39.861772",
     "exception": false,
     "start_time": "2023-10-18T09:05:39.851412",
     "status": "completed"
    },
    "tags": []
   },
   "source": [
    "\n",
    "FLO aims to establish a roadmap for its sales and marketing activities. In order for the company to make medium to long-term plans, it is necessary to forecast the potential value that existing customers will bring to the company in the future."
   ]
  },
  {
   "cell_type": "markdown",
   "id": "eadf39d7",
   "metadata": {
    "papermill": {
     "duration": 0.012351,
     "end_time": "2023-10-18T09:05:39.883851",
     "exception": false,
     "start_time": "2023-10-18T09:05:39.871500",
     "status": "completed"
    },
    "tags": []
   },
   "source": [
    ">### *Story of the Dataset*"
   ]
  },
  {
   "cell_type": "markdown",
   "id": "50d481c1",
   "metadata": {
    "papermill": {
     "duration": 0.009935,
     "end_time": "2023-10-18T09:05:39.986464",
     "exception": false,
     "start_time": "2023-10-18T09:05:39.976529",
     "status": "completed"
    },
    "tags": []
   },
   "source": [
    "The dataset consists of information obtained from the past shopping behaviors of customers who made their last purchases from Flo in 2020-2021 through OmniChannel, which means both online and offline shopping.\n",
    "\n",
    "* Number of Observations: 19,945\n",
    "* Number of Variables: 12"
   ]
  },
  {
   "cell_type": "markdown",
   "id": "b7f139c4",
   "metadata": {
    "papermill": {
     "duration": 0.017528,
     "end_time": "2023-10-18T09:05:40.016253",
     "exception": false,
     "start_time": "2023-10-18T09:05:39.998725",
     "status": "completed"
    },
    "tags": []
   },
   "source": [
    ">### *Variables*"
   ]
  },
  {
   "cell_type": "markdown",
   "id": "af466fe5",
   "metadata": {
    "papermill": {
     "duration": 0.009098,
     "end_time": "2023-10-18T09:05:40.037493",
     "exception": false,
     "start_time": "2023-10-18T09:05:40.028395",
     "status": "completed"
    },
    "tags": []
   },
   "source": [
    "* master_id: Unique customer identifier\n",
    "* order_channel: The channel used for shopping (Android, iOS, Desktop, Mobile, Offline)\n",
    "* last_order_channel: The channel used for the last purchase\n",
    "* first_order_date: The date of the customer's first purchase\n",
    "* last_order_date: The date of the customer's last purchase\n",
    "* last_order_date_online: The date of the customer's last online purchase\n",
    "* last_order_date_offline: The date of the customer's last offline purchase\n",
    "* order_num_total_ever_online: The total number of purchases made by the customer online\n",
    "* order_num_total_ever_offline: The total number of purchases made by the customer offline\n",
    "* customer_value_total_ever_offline: The total amount paid by the customer in offline purchases\n",
    "* customer_value_total_ever_online: The total amount paid by the customer in online purchases\n",
    "* interested_in_categories_12: The list of categories the customer shopped in the last 12 months."
   ]
  },
  {
   "cell_type": "markdown",
   "id": "e93d03d0",
   "metadata": {
    "papermill": {
     "duration": 0.009738,
     "end_time": "2023-10-18T09:05:40.058181",
     "exception": false,
     "start_time": "2023-10-18T09:05:40.048443",
     "status": "completed"
    },
    "tags": []
   },
   "source": [
    "## TASKS"
   ]
  },
  {
   "cell_type": "markdown",
   "id": "7a3d069b",
   "metadata": {
    "papermill": {
     "duration": 0.009465,
     "end_time": "2023-10-18T09:05:40.078285",
     "exception": false,
     "start_time": "2023-10-18T09:05:40.068820",
     "status": "completed"
    },
    "tags": []
   },
   "source": [
    "* TASK 1: DATA PREPARATION\n",
    "* TASK 2: CREATING CLTV METRICS\n",
    "* TASK 3: ESTABLISHING BG/NBD AND GAMMA-GAMMA MODELS, CALCULATING CLTV\n",
    "* TASK 4: CREATING SEGMENTS BASED ON CLTV\n",
    "* TASK 5: HYPOTHESIS FORMULATION AND HYPOTHESIS TESTING\n",
    "* TASK 6: CREATING STRATEGIES FOR CUSTOMER SEGMENTS"
   ]
  },
  {
   "cell_type": "markdown",
   "id": "41ac3080",
   "metadata": {
    "papermill": {
     "duration": 0.010102,
     "end_time": "2023-10-18T09:05:40.098285",
     "exception": false,
     "start_time": "2023-10-18T09:05:40.088183",
     "status": "completed"
    },
    "tags": []
   },
   "source": [
    "#### TASK 1.1: Importing Libraries"
   ]
  },
  {
   "cell_type": "code",
   "execution_count": 1,
   "id": "1a43ff82",
   "metadata": {
    "execution": {
     "iopub.execute_input": "2023-10-18T09:05:40.124072Z",
     "iopub.status.busy": "2023-10-18T09:05:40.122770Z",
     "iopub.status.idle": "2023-10-18T09:05:55.093894Z",
     "shell.execute_reply": "2023-10-18T09:05:55.091944Z"
    },
    "papermill": {
     "duration": 14.988214,
     "end_time": "2023-10-18T09:05:55.097327",
     "exception": false,
     "start_time": "2023-10-18T09:05:40.109113",
     "status": "completed"
    },
    "tags": []
   },
   "outputs": [
    {
     "name": "stdout",
     "output_type": "stream",
     "text": [
      "Collecting lifetimes\r\n",
      "  Downloading Lifetimes-0.11.3-py3-none-any.whl (584 kB)\r\n",
      "\u001b[2K     \u001b[90m━━━━━━━━━━━━━━━━━━━━━━━━━━━━━━━━━━━━━━\u001b[0m \u001b[32m584.2/584.2 kB\u001b[0m \u001b[31m11.0 MB/s\u001b[0m eta \u001b[36m0:00:00\u001b[0m\r\n",
      "\u001b[?25hRequirement already satisfied: numpy>=1.10.0 in /opt/conda/lib/python3.10/site-packages (from lifetimes) (1.23.5)\r\n",
      "Requirement already satisfied: scipy>=1.0.0 in /opt/conda/lib/python3.10/site-packages (from lifetimes) (1.11.2)\r\n",
      "Requirement already satisfied: pandas>=0.24.0 in /opt/conda/lib/python3.10/site-packages (from lifetimes) (2.0.3)\r\n",
      "Collecting autograd>=1.2.0 (from lifetimes)\r\n",
      "  Downloading autograd-1.6.2-py3-none-any.whl (49 kB)\r\n",
      "\u001b[2K     \u001b[90m━━━━━━━━━━━━━━━━━━━━━━━━━━━━━━━━━━━━━━━━\u001b[0m \u001b[32m49.3/49.3 kB\u001b[0m \u001b[31m3.7 MB/s\u001b[0m eta \u001b[36m0:00:00\u001b[0m\r\n",
      "\u001b[?25hRequirement already satisfied: dill>=0.2.6 in /opt/conda/lib/python3.10/site-packages (from lifetimes) (0.3.7)\r\n",
      "Requirement already satisfied: future>=0.15.2 in /opt/conda/lib/python3.10/site-packages (from autograd>=1.2.0->lifetimes) (0.18.3)\r\n",
      "Requirement already satisfied: python-dateutil>=2.8.2 in /opt/conda/lib/python3.10/site-packages (from pandas>=0.24.0->lifetimes) (2.8.2)\r\n",
      "Requirement already satisfied: pytz>=2020.1 in /opt/conda/lib/python3.10/site-packages (from pandas>=0.24.0->lifetimes) (2023.3)\r\n",
      "Requirement already satisfied: tzdata>=2022.1 in /opt/conda/lib/python3.10/site-packages (from pandas>=0.24.0->lifetimes) (2023.3)\r\n",
      "Requirement already satisfied: six>=1.5 in /opt/conda/lib/python3.10/site-packages (from python-dateutil>=2.8.2->pandas>=0.24.0->lifetimes) (1.16.0)\r\n",
      "Installing collected packages: autograd, lifetimes\r\n",
      "Successfully installed autograd-1.6.2 lifetimes-0.11.3\r\n"
     ]
    }
   ],
   "source": [
    "!pip install lifetimes \n",
    "import datetime as dt\n",
    "import pandas as pd\n",
    "import numpy as np\n",
    "import matplotlib.pyplot as plt\n",
    "from scipy.stats import norm, shapiro, kstest\n",
    "from lifetimes import BetaGeoFitter\n",
    "from lifetimes import GammaGammaFitter\n",
    "from lifetimes.plotting import plot_period_transactions\n",
    "\n",
    "pd.set_option('display.max_columns', None)\n",
    "pd.set_option('display.width', 500)\n",
    "pd.set_option('display.float_format', lambda x: '%.4f' % x)\n",
    "from sklearn.preprocessing import MinMaxScaler\n"
   ]
  },
  {
   "cell_type": "code",
   "execution_count": 2,
   "id": "369ee67c",
   "metadata": {
    "execution": {
     "iopub.execute_input": "2023-10-18T09:05:55.121807Z",
     "iopub.status.busy": "2023-10-18T09:05:55.120127Z",
     "iopub.status.idle": "2023-10-18T09:05:55.262837Z",
     "shell.execute_reply": "2023-10-18T09:05:55.261238Z"
    },
    "papermill": {
     "duration": 0.156396,
     "end_time": "2023-10-18T09:05:55.265279",
     "exception": false,
     "start_time": "2023-10-18T09:05:55.108883",
     "status": "completed"
    },
    "tags": []
   },
   "outputs": [],
   "source": [
    "df_ = pd.read_csv('/kaggle/input/private-data-flo/flo_data_20k.csv')\n",
    "df = df_.copy()"
   ]
  },
  {
   "cell_type": "markdown",
   "id": "705fe036",
   "metadata": {
    "papermill": {
     "duration": 0.010956,
     "end_time": "2023-10-18T09:05:55.288383",
     "exception": false,
     "start_time": "2023-10-18T09:05:55.277427",
     "status": "completed"
    },
    "tags": []
   },
   "source": [
    "#### TASK 1.2: Exploring the Data Distribution"
   ]
  },
  {
   "cell_type": "markdown",
   "id": "3df90a85",
   "metadata": {
    "papermill": {
     "duration": 0.011282,
     "end_time": "2023-10-18T09:05:55.312036",
     "exception": false,
     "start_time": "2023-10-18T09:05:55.300754",
     "status": "completed"
    },
    "tags": []
   },
   "source": [
    "To check whether the data follows a normal distribution, a function called \"check_normality\" is used. This function is designed to assess whether the numerical columns in the dataset conform to a normal distribution. The check is performed using the Shapiro-Wilk and Kolmogorov-Smirnov tests, and the results of the normality tests are reported for each column. However, a warning message is received stating, \"p-value may not be accurate for N > 5000.\" This warning indicates that the results of the normality tests may not be accurate or reliable. The message suggests that when the dataset is of substantial size, the p-value calculation for normality tests may not be precise."
   ]
  },
  {
   "cell_type": "code",
   "execution_count": 3,
   "id": "bb662c89",
   "metadata": {
    "execution": {
     "iopub.execute_input": "2023-10-18T09:05:55.335137Z",
     "iopub.status.busy": "2023-10-18T09:05:55.334719Z",
     "iopub.status.idle": "2023-10-18T09:05:55.468201Z",
     "shell.execute_reply": "2023-10-18T09:05:55.466749Z"
    },
    "papermill": {
     "duration": 0.148311,
     "end_time": "2023-10-18T09:05:55.470876",
     "exception": false,
     "start_time": "2023-10-18T09:05:55.322565",
     "status": "completed"
    },
    "tags": []
   },
   "outputs": [
    {
     "name": "stdout",
     "output_type": "stream",
     "text": [
      "{'order_num_total_ever_online': 'Veri normal dağılıma uymaz.', 'order_num_total_ever_offline': 'Veri normal dağılıma uymaz.', 'customer_value_total_ever_offline': 'Veri normal dağılıma uymaz.', 'customer_value_total_ever_online': 'Veri normal dağılıma uymaz.'}\n"
     ]
    }
   ],
   "source": [
    "import warnings\n",
    "warnings.filterwarnings(\"ignore\")\n",
    "\n",
    "def check_normality(data):\n",
    "    numeric_columns = data.select_dtypes(include=['int', 'float'])  \n",
    "    results = {}\n",
    "    for col in numeric_columns.columns:\n",
    "        shapiro_stat, shapiro_p = shapiro(numeric_columns[col])\n",
    "        ks_stat, ks_p = kstest(numeric_columns[col], 'norm')\n",
    "\n",
    "        if shapiro_p > 0.05 and ks_p > 0.05:\n",
    "            results[col] = \"Veri normal dağılıma uyar.\"\n",
    "        else:\n",
    "            results[col] = \"Veri normal dağılıma uymaz.\"\n",
    "\n",
    "    return results\n",
    "\n",
    "result = check_normality(df)\n",
    "\n",
    "print(result)"
   ]
  },
  {
   "cell_type": "markdown",
   "id": "0de61338",
   "metadata": {
    "papermill": {
     "duration": 0.009649,
     "end_time": "2023-10-18T09:05:55.491031",
     "exception": false,
     "start_time": "2023-10-18T09:05:55.481382",
     "status": "completed"
    },
    "tags": []
   },
   "source": [
    "#### TASK 1.3: Data Visualization"
   ]
  },
  {
   "cell_type": "markdown",
   "id": "159784b5",
   "metadata": {
    "papermill": {
     "duration": 0.009695,
     "end_time": "2023-10-18T09:05:55.511138",
     "exception": false,
     "start_time": "2023-10-18T09:05:55.501443",
     "status": "completed"
    },
    "tags": []
   },
   "source": [
    "\n",
    "For such cases, it's better to rely on visual analyses rather than completely trusting the results of normality tests. Methods like histograms, Q-Q plots, and normal distribution curves better illustrate how well the data adheres to a normal distribution and are more reliable for larger datasets. The function named \"num_graph\" draws histograms and normal distribution curves for numerical columns in the dataset, which is used to visualize the data's distribution. Since our dataset is larger than 5000, these visual analyses will help us obtain more reliable insights."
   ]
  },
  {
   "cell_type": "code",
   "execution_count": 4,
   "id": "861f75b6",
   "metadata": {
    "execution": {
     "iopub.execute_input": "2023-10-18T09:05:55.533867Z",
     "iopub.status.busy": "2023-10-18T09:05:55.533470Z",
     "iopub.status.idle": "2023-10-18T09:05:56.861407Z",
     "shell.execute_reply": "2023-10-18T09:05:56.859342Z"
    },
    "papermill": {
     "duration": 1.34387,
     "end_time": "2023-10-18T09:05:56.864790",
     "exception": false,
     "start_time": "2023-10-18T09:05:55.520920",
     "status": "completed"
    },
    "tags": []
   },
   "outputs": [
    {
     "data": {
      "image/png": "[encoded data removed]",
      "text/plain": [
       "<Figure size 640x480 with 1 Axes>"
      ]
     },
     "metadata": {},
     "output_type": "display_data"
    },
    {
     "data": {
      "image/png": "[encoded data removed]",
      "text/plain": [
       "<Figure size 640x480 with 1 Axes>"
      ]
     },
     "metadata": {},
     "output_type": "display_data"
    },
    {
     "data": {
      "image/png": "[encoded data removed]",
      "text/plain": [
       "<Figure size 640x480 with 1 Axes>"
      ]
     },
     "metadata": {},
     "output_type": "display_data"
    },
    {
     "data": {
      "image/png": "[encoded data removed]",
      "text/plain": [
       "<Figure size 640x480 with 1 Axes>"
      ]
     },
     "metadata": {},
     "output_type": "display_data"
    }
   ],
   "source": [
    "def num_graph(dataframe):\n",
    "    for col in dataframe.columns:\n",
    "        if dataframe[col].dtype in [int, float]:\n",
    "            data = dataframe[[col]]  \n",
    "            if data.dtypes[0] == 'float':\n",
    "                data = data.dropna()\n",
    "                data.plot(kind='hist', density=True, title=col) \n",
    "                data_mean, data_std = data.mean(), data.std()\n",
    "                xmin, xmax = data.min(), data.max()\n",
    "                x = np.linspace(xmin, xmax, 100)\n",
    "                p = norm.pdf(x, data_mean, data_std) \n",
    "                plt.plot(x, p, 'k', linewidth=2)  \n",
    "                plt.xlabel(col)\n",
    "                plt.show()\n",
    "                # print(f\"{col} Result of the normality test: {check_normality(data)}\")\n",
    "\n",
    "num_graph(df)"
   ]
  },
  {
   "cell_type": "markdown",
   "id": "8f17852a",
   "metadata": {
    "papermill": {
     "duration": 0.01494,
     "end_time": "2023-10-18T09:05:56.893235",
     "exception": false,
     "start_time": "2023-10-18T09:05:56.878295",
     "status": "completed"
    },
    "tags": []
   },
   "source": [
    "#### TASK 1.4: Handling Outliers in the Dataset"
   ]
  },
  {
   "cell_type": "code",
   "execution_count": 5,
   "id": "e71fb593",
   "metadata": {
    "execution": {
     "iopub.execute_input": "2023-10-18T09:05:56.920557Z",
     "iopub.status.busy": "2023-10-18T09:05:56.919953Z",
     "iopub.status.idle": "2023-10-18T09:05:58.204936Z",
     "shell.execute_reply": "2023-10-18T09:05:58.203849Z"
    },
    "papermill": {
     "duration": 1.301446,
     "end_time": "2023-10-18T09:05:58.207220",
     "exception": false,
     "start_time": "2023-10-18T09:05:56.905774",
     "status": "completed"
    },
    "tags": []
   },
   "outputs": [
    {
     "name": "stdout",
     "output_type": "stream",
     "text": [
      "{'order_num_total_ever_online': 'Veri normal dağılıma uymaz.', 'order_num_total_ever_offline': 'Veri normal dağılıma uymaz.', 'customer_value_total_ever_offline': 'Veri normal dağılıma uymaz.', 'customer_value_total_ever_online': 'Veri normal dağılıma uymaz.'}\n"
     ]
    },
    {
     "data": {
      "image/png": "[encoded data removed]",
      "text/plain": [
       "<Figure size 640x480 with 1 Axes>"
      ]
     },
     "metadata": {},
     "output_type": "display_data"
    },
    {
     "data": {
      "image/png": "[encoded data removed]",
      "text/plain": [
       "<Figure size 640x480 with 1 Axes>"
      ]
     },
     "metadata": {},
     "output_type": "display_data"
    },
    {
     "data": {
      "image/png": "[encoded data removed]",
      "text/plain": [
       "<Figure size 640x480 with 1 Axes>"
      ]
     },
     "metadata": {},
     "output_type": "display_data"
    },
    {
     "data": {
      "image/png": "[encoded data removed]",
      "text/plain": [
       "<Figure size 640x480 with 1 Axes>"
      ]
     },
     "metadata": {},
     "output_type": "display_data"
    }
   ],
   "source": [
    "df.head()\n",
    "df.dtypes\n",
    "\n",
    "\n",
    "\"\"\"\n",
    "A \"variable_list\" is created for the variables in the DataFrame that need to be capped.\n",
    "\"\"\"\n",
    "\n",
    "variable_list = [\"order_num_total_ever_online\",\n",
    "                \"order_num_total_ever_offline\",\n",
    "                \"customer_value_total_ever_offline\",\n",
    "                \"customer_value_total_ever_online\"]\n",
    "\n",
    "\"\"\"\n",
    "A function called \"outlier_thresholds\" is created to perform the process of handling \n",
    "outliers by capping them at specified thresholds. \n",
    "\"\"\"\n",
    "\n",
    "def outlier_thresholds(dataframe, variable):\n",
    "    quartile1 = dataframe[variable].quantile(0.01)\n",
    "    quartile3 = dataframe[variable].quantile(0.99)\n",
    "    interquantile_range = quartile3 - quartile1\n",
    "    up_limit = (quartile3 + 1.5 * interquantile_range).round()\n",
    "    low_limit = (quartile1 - 1.5 * interquantile_range).round()\n",
    "    return low_limit, up_limit\n",
    "\n",
    "\n",
    "\"\"\"\n",
    "A DataFrame is created, and the variable \"replace_with_thresholds\" is generated after \n",
    "handling the outliers.\n",
    "\"\"\"\n",
    "def replace_with_thresholds(dataframe, variable_list):\n",
    "    for variable in variable_list:\n",
    "        low_limit, up_limit = outlier_thresholds(dataframe, variable)\n",
    "        dataframe.loc[(dataframe[variable] < low_limit), variable] = low_limit\n",
    "        dataframe.loc[(dataframe[variable] > up_limit), variable] = up_limit\n",
    "    new_result = check_normality(df)\n",
    "    print(new_result)\n",
    "\n",
    "replace_with_thresholds(df, variable_list)\n",
    "\n",
    "\"\"\"\n",
    "After handling the outliers in the dataset, the \"num_graph\" function is used to draw \n",
    "updated histograms and normal distribution curves for numerical columns.\n",
    "\"\"\"\n",
    "\n",
    "num_graph(df)\n"
   ]
  },
  {
   "cell_type": "markdown",
   "id": "de17e174",
   "metadata": {
    "papermill": {
     "duration": 0.015519,
     "end_time": "2023-10-18T09:05:58.238391",
     "exception": false,
     "start_time": "2023-10-18T09:05:58.222872",
     "status": "completed"
    },
    "tags": []
   },
   "source": [
    "#### TASK 1.5: Data Preprocessing and Feature Engineering"
   ]
  },
  {
   "cell_type": "code",
   "execution_count": 6,
   "id": "c369686d",
   "metadata": {
    "execution": {
     "iopub.execute_input": "2023-10-18T09:05:58.269861Z",
     "iopub.status.busy": "2023-10-18T09:05:58.269446Z",
     "iopub.status.idle": "2023-10-18T09:05:58.306390Z",
     "shell.execute_reply": "2023-10-18T09:05:58.305025Z"
    },
    "papermill": {
     "duration": 0.056727,
     "end_time": "2023-10-18T09:05:58.309541",
     "exception": false,
     "start_time": "2023-10-18T09:05:58.252814",
     "status": "completed"
    },
    "tags": []
   },
   "outputs": [],
   "source": [
    "\"\"\"\n",
    "OmniChannel refers to customers making purchases from both online and offline platforms. New variables\n",
    "are created for each customer's total number of purchases and spending. Variables representing dates \n",
    "are converted to the \"date\" type.\n",
    "\"\"\"\n",
    "\n",
    "df['TotalPurchaseCount'] = df['order_num_total_ever_online'] + df['order_num_total_ever_offline']\n",
    "df['TotalSpending'] = df['customer_value_total_ever_online'] + df['customer_value_total_ever_offline']\n",
    "\n",
    "date_columns = ['first_order_date', 'last_order_date', 'last_order_date_online', 'last_order_date_offline']\n",
    "df[date_columns] = df[date_columns].apply(pd.to_datetime)"
   ]
  },
  {
   "cell_type": "markdown",
   "id": "62486d81",
   "metadata": {
    "papermill": {
     "duration": 0.015586,
     "end_time": "2023-10-18T09:05:58.341024",
     "exception": false,
     "start_time": "2023-10-18T09:05:58.325438",
     "status": "completed"
    },
    "tags": []
   },
   "source": [
    "### TASK 2: CREATING CLTV METRICS"
   ]
  },
  {
   "cell_type": "code",
   "execution_count": 7,
   "id": "7695f21b",
   "metadata": {
    "execution": {
     "iopub.execute_input": "2023-10-18T09:05:58.374823Z",
     "iopub.status.busy": "2023-10-18T09:05:58.374406Z",
     "iopub.status.idle": "2023-10-18T09:05:58.390760Z",
     "shell.execute_reply": "2023-10-18T09:05:58.389934Z"
    },
    "papermill": {
     "duration": 0.035851,
     "end_time": "2023-10-18T09:05:58.392880",
     "exception": false,
     "start_time": "2023-10-18T09:05:58.357029",
     "status": "completed"
    },
    "tags": []
   },
   "outputs": [],
   "source": [
    "\"\"\"\n",
    "To create the observation date, add 2 days to the last purchase date.\n",
    "\"\"\"\n",
    "\n",
    "df['last_order_date'].max()\n",
    "today_date = dt.datetime(2021, 6, 1)\n",
    "\n",
    "cltv = pd.DataFrame()\n",
    "cltv[\"customer_id\"] = df[\"master_id\"]\n",
    "cltv[\"recency\"] = ((df[\"last_order_date\"] - df[\"first_order_date\"]) / 7).dt.days\n",
    "cltv[\"T_score\"] = ((today_date - df[\"first_order_date\"]) / 7).dt.days\n",
    "cltv[\"frequency\"] = df[\"TotalPurchaseCount\"]\n",
    "cltv[\"monetary\"] = df[\"TotalSpending\"] / cltv[\"frequency\"]"
   ]
  },
  {
   "cell_type": "markdown",
   "id": "30911956",
   "metadata": {
    "papermill": {
     "duration": 0.014584,
     "end_time": "2023-10-18T09:05:58.422013",
     "exception": false,
     "start_time": "2023-10-18T09:05:58.407429",
     "status": "completed"
    },
    "tags": []
   },
   "source": [
    "### TASK 3: ESTABLISHING BG/NBD AND GAMMA-GAMMA MODELS"
   ]
  },
  {
   "cell_type": "markdown",
   "id": "03d3c9d4",
   "metadata": {
    "papermill": {
     "duration": 0.014522,
     "end_time": "2023-10-18T09:05:58.450577",
     "exception": false,
     "start_time": "2023-10-18T09:05:58.436055",
     "status": "completed"
    },
    "tags": []
   },
   "source": [
    "* TASK 3.1: Establishing the BG/NBD Model\n",
    "* TASK 3.2: Establishing the Gamma-Gamma Model\n",
    "* TASK 3.3: Observing Based on CLTV Value"
   ]
  },
  {
   "cell_type": "markdown",
   "id": "931f4a1c",
   "metadata": {
    "papermill": {
     "duration": 0.014065,
     "end_time": "2023-10-18T09:05:58.479475",
     "exception": false,
     "start_time": "2023-10-18T09:05:58.465410",
     "status": "completed"
    },
    "tags": []
   },
   "source": [
    "#### TASK 3.1: Establishing the BG/NBD Model"
   ]
  },
  {
   "cell_type": "code",
   "execution_count": 8,
   "id": "9d446ddc",
   "metadata": {
    "execution": {
     "iopub.execute_input": "2023-10-18T09:05:58.509941Z",
     "iopub.status.busy": "2023-10-18T09:05:58.509347Z",
     "iopub.status.idle": "2023-10-18T09:05:59.298184Z",
     "shell.execute_reply": "2023-10-18T09:05:59.296303Z"
    },
    "papermill": {
     "duration": 0.810796,
     "end_time": "2023-10-18T09:05:59.304306",
     "exception": false,
     "start_time": "2023-10-18T09:05:58.493510",
     "status": "completed"
    },
    "tags": []
   },
   "outputs": [
    {
     "data": {
      "text/plain": [
       "<lifetimes.BetaGeoFitter: fitted with 19945 subjects, a: 0.00, alpha: 75.49, b: 0.00, r: 3.65>"
      ]
     },
     "execution_count": 8,
     "metadata": {},
     "output_type": "execute_result"
    }
   ],
   "source": [
    "bgf = BetaGeoFitter(penalizer_coef=0.001)\n",
    "bgf.fit(cltv['frequency'],\n",
    "        cltv['recency'],\n",
    "        cltv['T_score'])\n",
    "\n",
    "# <lifetimes.BetaGeoFitter: fitted with 19945 subjects, a: 0.00, alpha: 75.49, b: 0.00, r: 3.65>"
   ]
  },
  {
   "cell_type": "markdown",
   "id": "e3745e9e",
   "metadata": {
    "papermill": {
     "duration": 0.042696,
     "end_time": "2023-10-18T09:05:59.389243",
     "exception": false,
     "start_time": "2023-10-18T09:05:59.346547",
     "status": "completed"
    },
    "tags": []
   },
   "source": [
    "#### TASK 3.2: Establishing the Gamma-Gamma Model"
   ]
  },
  {
   "cell_type": "code",
   "execution_count": 9,
   "id": "06012af5",
   "metadata": {
    "execution": {
     "iopub.execute_input": "2023-10-18T09:05:59.434303Z",
     "iopub.status.busy": "2023-10-18T09:05:59.433838Z",
     "iopub.status.idle": "2023-10-18T09:05:59.645142Z",
     "shell.execute_reply": "2023-10-18T09:05:59.643997Z"
    },
    "papermill": {
     "duration": 0.232419,
     "end_time": "2023-10-18T09:05:59.649021",
     "exception": false,
     "start_time": "2023-10-18T09:05:59.416602",
     "status": "completed"
    },
    "tags": []
   },
   "outputs": [
    {
     "data": {
      "text/html": [
       "<div>\n",
       "<style scoped>\n",
       "    .dataframe tbody tr th:only-of-type {\n",
       "        vertical-align: middle;\n",
       "    }\n",
       "\n",
       "    .dataframe tbody tr th {\n",
       "        vertical-align: top;\n",
       "    }\n",
       "\n",
       "    .dataframe thead th {\n",
       "        text-align: right;\n",
       "    }\n",
       "</style>\n",
       "<table border=\"1\" class=\"dataframe\">\n",
       "  <thead>\n",
       "    <tr style=\"text-align: right;\">\n",
       "      <th></th>\n",
       "      <th>customer_id</th>\n",
       "      <th>recency</th>\n",
       "      <th>T_score</th>\n",
       "      <th>frequency</th>\n",
       "      <th>monetary</th>\n",
       "      <th>expected_average_profit</th>\n",
       "    </tr>\n",
       "  </thead>\n",
       "  <tbody>\n",
       "    <tr>\n",
       "      <th>9055</th>\n",
       "      <td>47a642fe-975b-11eb-8c2a-000d3a38a36f</td>\n",
       "      <td>2</td>\n",
       "      <td>7</td>\n",
       "      <td>4.0000</td>\n",
       "      <td>1401.8000</td>\n",
       "      <td>1449.0605</td>\n",
       "    </tr>\n",
       "    <tr>\n",
       "      <th>17323</th>\n",
       "      <td>f59053e2-a503-11e9-a2fc-000d3a38a36f</td>\n",
       "      <td>51</td>\n",
       "      <td>101</td>\n",
       "      <td>7.0000</td>\n",
       "      <td>1106.4671</td>\n",
       "      <td>1127.6115</td>\n",
       "    </tr>\n",
       "    <tr>\n",
       "      <th>15516</th>\n",
       "      <td>9083981a-f59e-11e9-841e-000d3a38a36f</td>\n",
       "      <td>63</td>\n",
       "      <td>83</td>\n",
       "      <td>4.0000</td>\n",
       "      <td>1090.3600</td>\n",
       "      <td>1127.3545</td>\n",
       "    </tr>\n",
       "    <tr>\n",
       "      <th>6402</th>\n",
       "      <td>851de3b4-8f0c-11eb-8cb8-000d3a38a36f</td>\n",
       "      <td>8</td>\n",
       "      <td>9</td>\n",
       "      <td>2.0000</td>\n",
       "      <td>862.6900</td>\n",
       "      <td>923.6800</td>\n",
       "    </tr>\n",
       "    <tr>\n",
       "      <th>16410</th>\n",
       "      <td>6fecd6c8-261a-11ea-8e1c-000d3a38a36f</td>\n",
       "      <td>57</td>\n",
       "      <td>94</td>\n",
       "      <td>2.0000</td>\n",
       "      <td>859.5800</td>\n",
       "      <td>920.3579</td>\n",
       "    </tr>\n",
       "    <tr>\n",
       "      <th>...</th>\n",
       "      <td>...</td>\n",
       "      <td>...</td>\n",
       "      <td>...</td>\n",
       "      <td>...</td>\n",
       "      <td>...</td>\n",
       "      <td>...</td>\n",
       "    </tr>\n",
       "    <tr>\n",
       "      <th>3096</th>\n",
       "      <td>4bb3a040-acc9-11e9-a2fc-000d3a38a36f</td>\n",
       "      <td>136</td>\n",
       "      <td>159</td>\n",
       "      <td>3.0000</td>\n",
       "      <td>26.8233</td>\n",
       "      <td>29.4348</td>\n",
       "    </tr>\n",
       "    <tr>\n",
       "      <th>7693</th>\n",
       "      <td>1e2dd6cc-0b1e-11eb-8ffc-000d3a38a36f</td>\n",
       "      <td>20</td>\n",
       "      <td>33</td>\n",
       "      <td>2.0000</td>\n",
       "      <td>24.9900</td>\n",
       "      <td>28.8713</td>\n",
       "    </tr>\n",
       "    <tr>\n",
       "      <th>14980</th>\n",
       "      <td>0769f8d0-d627-11e9-93bc-000d3a38a36f</td>\n",
       "      <td>58</td>\n",
       "      <td>93</td>\n",
       "      <td>2.0000</td>\n",
       "      <td>22.4900</td>\n",
       "      <td>26.2008</td>\n",
       "    </tr>\n",
       "    <tr>\n",
       "      <th>1710</th>\n",
       "      <td>08b95b62-a987-11e9-a2fc-000d3a38a36f</td>\n",
       "      <td>226</td>\n",
       "      <td>232</td>\n",
       "      <td>2.0000</td>\n",
       "      <td>22.4900</td>\n",
       "      <td>26.2008</td>\n",
       "    </tr>\n",
       "    <tr>\n",
       "      <th>9621</th>\n",
       "      <td>1b22a066-d68b-11e9-93bc-000d3a38a36f</td>\n",
       "      <td>45</td>\n",
       "      <td>96</td>\n",
       "      <td>3.0000</td>\n",
       "      <td>22.6567</td>\n",
       "      <td>25.0830</td>\n",
       "    </tr>\n",
       "  </tbody>\n",
       "</table>\n",
       "<p>19945 rows × 6 columns</p>\n",
       "</div>"
      ],
      "text/plain": [
       "                                customer_id  recency  T_score  frequency  monetary  expected_average_profit\n",
       "9055   47a642fe-975b-11eb-8c2a-000d3a38a36f        2        7     4.0000 1401.8000                1449.0605\n",
       "17323  f59053e2-a503-11e9-a2fc-000d3a38a36f       51      101     7.0000 1106.4671                1127.6115\n",
       "15516  9083981a-f59e-11e9-841e-000d3a38a36f       63       83     4.0000 1090.3600                1127.3545\n",
       "6402   851de3b4-8f0c-11eb-8cb8-000d3a38a36f        8        9     2.0000  862.6900                 923.6800\n",
       "16410  6fecd6c8-261a-11ea-8e1c-000d3a38a36f       57       94     2.0000  859.5800                 920.3579\n",
       "...                                     ...      ...      ...        ...       ...                      ...\n",
       "3096   4bb3a040-acc9-11e9-a2fc-000d3a38a36f      136      159     3.0000   26.8233                  29.4348\n",
       "7693   1e2dd6cc-0b1e-11eb-8ffc-000d3a38a36f       20       33     2.0000   24.9900                  28.8713\n",
       "14980  0769f8d0-d627-11e9-93bc-000d3a38a36f       58       93     2.0000   22.4900                  26.2008\n",
       "1710   08b95b62-a987-11e9-a2fc-000d3a38a36f      226      232     2.0000   22.4900                  26.2008\n",
       "9621   1b22a066-d68b-11e9-93bc-000d3a38a36f       45       96     3.0000   22.6567                  25.0830\n",
       "\n",
       "[19945 rows x 6 columns]"
      ]
     },
     "execution_count": 9,
     "metadata": {},
     "output_type": "execute_result"
    }
   ],
   "source": [
    "ggf = GammaGammaFitter(penalizer_coef=0.01)\n",
    "ggf.fit(cltv['frequency'], cltv['monetary'])\n",
    "\n",
    "# <lifetimes.GammaGammaFitter: fitted with 19945 subjects, p: 4.15, q: 0.47, v: 4.08> \n",
    "\n",
    "ggf.conditional_expected_average_profit(cltv['frequency'],\n",
    "                                        cltv['monetary']).sort_values(ascending=False)\n",
    "cltv[\"expected_average_profit\"] = ggf.conditional_expected_average_profit(cltv['frequency'],\n",
    "                                                                          cltv['monetary'])\n",
    "cltv.sort_values(\"expected_average_profit\", ascending=False)"
   ]
  },
  {
   "cell_type": "markdown",
   "id": "4a074606",
   "metadata": {
    "papermill": {
     "duration": 0.028114,
     "end_time": "2023-10-18T09:05:59.716774",
     "exception": false,
     "start_time": "2023-10-18T09:05:59.688660",
     "status": "completed"
    },
    "tags": []
   },
   "source": [
    "#### TASK 3.3: Observing Based on CLTV Value"
   ]
  },
  {
   "cell_type": "code",
   "execution_count": 10,
   "id": "307c3fdd",
   "metadata": {
    "execution": {
     "iopub.execute_input": "2023-10-18T09:05:59.750163Z",
     "iopub.status.busy": "2023-10-18T09:05:59.749770Z",
     "iopub.status.idle": "2023-10-18T09:05:59.791619Z",
     "shell.execute_reply": "2023-10-18T09:05:59.790054Z"
    },
    "papermill": {
     "duration": 0.06163,
     "end_time": "2023-10-18T09:05:59.794454",
     "exception": false,
     "start_time": "2023-10-18T09:05:59.732824",
     "status": "completed"
    },
    "tags": []
   },
   "outputs": [
    {
     "data": {
      "text/plain": [
       "0   1.9678\n",
       "1   1.9753\n",
       "2   1.3524\n",
       "3   1.4199\n",
       "4   0.7953\n",
       "5   0.7691\n",
       "6   1.3161\n",
       "7   1.0471\n",
       "8   1.4268\n",
       "9   0.7906\n",
       "Name: exp_sales_6_month, dtype: float64"
      ]
     },
     "execution_count": 10,
     "metadata": {},
     "output_type": "execute_result"
    }
   ],
   "source": [
    "\"\"\"\n",
    "Predict the expected purchases from customers within 3 months.\n",
    "\"\"\"\n",
    "cltv[\"exp_sales_3_month\"] = bgf.predict(4*3,\n",
    "                                        cltv['frequency'],\n",
    "                                        cltv['recency'],\n",
    "                                        cltv['T_score'])\n",
    "cltv.head()\n",
    "\n",
    "\"\"\"\n",
    "Predict the expected purchases from customers within 6 months.\n",
    "\"\"\"\n",
    "cltv[\"exp_sales_6_month\"] = bgf.predict(4*6,\n",
    "                                        cltv['frequency'],\n",
    "                                        cltv['recency'],\n",
    "                                        cltv['T_score'])\n",
    "\n",
    "cltv.head()\n",
    "\n",
    "\"\"\"\n",
    "\n",
    "Examine the top 10 individuals who will make the most purchases in the 3rd and 6th months.\n",
    "\"\"\"\n",
    "\n",
    "cltv[\"exp_sales_3_month\"].head(10)\n",
    "cltv[\"exp_sales_6_month\"].head(10)"
   ]
  },
  {
   "cell_type": "code",
   "execution_count": 11,
   "id": "845c4bd7",
   "metadata": {
    "execution": {
     "iopub.execute_input": "2023-10-18T09:05:59.827643Z",
     "iopub.status.busy": "2023-10-18T09:05:59.827017Z",
     "iopub.status.idle": "2023-10-18T09:06:00.047888Z",
     "shell.execute_reply": "2023-10-18T09:06:00.045860Z"
    },
    "papermill": {
     "duration": 0.240851,
     "end_time": "2023-10-18T09:06:00.050417",
     "exception": false,
     "start_time": "2023-10-18T09:05:59.809566",
     "status": "completed"
    },
    "tags": []
   },
   "outputs": [
    {
     "data": {
      "text/html": [
       "<div>\n",
       "<style scoped>\n",
       "    .dataframe tbody tr th:only-of-type {\n",
       "        vertical-align: middle;\n",
       "    }\n",
       "\n",
       "    .dataframe tbody tr th {\n",
       "        vertical-align: top;\n",
       "    }\n",
       "\n",
       "    .dataframe thead th {\n",
       "        text-align: right;\n",
       "    }\n",
       "</style>\n",
       "<table border=\"1\" class=\"dataframe\">\n",
       "  <thead>\n",
       "    <tr style=\"text-align: right;\">\n",
       "      <th></th>\n",
       "      <th>customer_id</th>\n",
       "      <th>recency</th>\n",
       "      <th>T_score</th>\n",
       "      <th>frequency</th>\n",
       "      <th>monetary</th>\n",
       "      <th>expected_average_profit</th>\n",
       "      <th>exp_sales_3_month</th>\n",
       "      <th>exp_sales_6_month</th>\n",
       "      <th>CLTV</th>\n",
       "    </tr>\n",
       "  </thead>\n",
       "  <tbody>\n",
       "    <tr>\n",
       "      <th>9055</th>\n",
       "      <td>47a642fe-975b-11eb-8c2a-000d3a38a36f</td>\n",
       "      <td>2</td>\n",
       "      <td>7</td>\n",
       "      <td>4.0000</td>\n",
       "      <td>1401.8000</td>\n",
       "      <td>1449.0605</td>\n",
       "      <td>1.1127</td>\n",
       "      <td>2.2255</td>\n",
       "      <td>3383.6163</td>\n",
       "    </tr>\n",
       "    <tr>\n",
       "      <th>13880</th>\n",
       "      <td>7137a5c0-7aad-11ea-8f20-000d3a38a36f</td>\n",
       "      <td>6</td>\n",
       "      <td>13</td>\n",
       "      <td>11.0000</td>\n",
       "      <td>758.0855</td>\n",
       "      <td>767.3606</td>\n",
       "      <td>1.9865</td>\n",
       "      <td>3.9731</td>\n",
       "      <td>3198.8405</td>\n",
       "    </tr>\n",
       "    <tr>\n",
       "      <th>17323</th>\n",
       "      <td>f59053e2-a503-11e9-a2fc-000d3a38a36f</td>\n",
       "      <td>51</td>\n",
       "      <td>101</td>\n",
       "      <td>7.0000</td>\n",
       "      <td>1106.4671</td>\n",
       "      <td>1127.6115</td>\n",
       "      <td>0.7241</td>\n",
       "      <td>1.4481</td>\n",
       "      <td>1713.3248</td>\n",
       "    </tr>\n",
       "    <tr>\n",
       "      <th>12438</th>\n",
       "      <td>625f40a2-5bd2-11ea-98b0-000d3a38a36f</td>\n",
       "      <td>74</td>\n",
       "      <td>74</td>\n",
       "      <td>16.0000</td>\n",
       "      <td>501.8737</td>\n",
       "      <td>506.1667</td>\n",
       "      <td>1.5773</td>\n",
       "      <td>3.1546</td>\n",
       "      <td>1675.3408</td>\n",
       "    </tr>\n",
       "    <tr>\n",
       "      <th>7330</th>\n",
       "      <td>a4d534a2-5b1b-11eb-8dbd-000d3a38a36f</td>\n",
       "      <td>62</td>\n",
       "      <td>67</td>\n",
       "      <td>52.0000</td>\n",
       "      <td>166.2246</td>\n",
       "      <td>166.7123</td>\n",
       "      <td>4.6865</td>\n",
       "      <td>9.3730</td>\n",
       "      <td>1639.5120</td>\n",
       "    </tr>\n",
       "    <tr>\n",
       "      <th>8868</th>\n",
       "      <td>9ce6e520-89b0-11ea-a6e7-000d3a38a36f</td>\n",
       "      <td>3</td>\n",
       "      <td>34</td>\n",
       "      <td>8.0000</td>\n",
       "      <td>601.2262</td>\n",
       "      <td>611.4926</td>\n",
       "      <td>1.2767</td>\n",
       "      <td>2.5535</td>\n",
       "      <td>1638.2908</td>\n",
       "    </tr>\n",
       "    <tr>\n",
       "      <th>6402</th>\n",
       "      <td>851de3b4-8f0c-11eb-8cb8-000d3a38a36f</td>\n",
       "      <td>8</td>\n",
       "      <td>9</td>\n",
       "      <td>2.0000</td>\n",
       "      <td>862.6900</td>\n",
       "      <td>923.6800</td>\n",
       "      <td>0.8024</td>\n",
       "      <td>1.6047</td>\n",
       "      <td>1555.2097</td>\n",
       "    </tr>\n",
       "    <tr>\n",
       "      <th>6666</th>\n",
       "      <td>53fe00d4-7b7a-11eb-960b-000d3a38a36f</td>\n",
       "      <td>9</td>\n",
       "      <td>13</td>\n",
       "      <td>17.0000</td>\n",
       "      <td>259.8653</td>\n",
       "      <td>262.0729</td>\n",
       "      <td>2.8002</td>\n",
       "      <td>5.6003</td>\n",
       "      <td>1539.9342</td>\n",
       "    </tr>\n",
       "    <tr>\n",
       "      <th>19538</th>\n",
       "      <td>55d54d9e-8ac7-11ea-8ec0-000d3a38a36f</td>\n",
       "      <td>52</td>\n",
       "      <td>58</td>\n",
       "      <td>31.0000</td>\n",
       "      <td>228.5300</td>\n",
       "      <td>229.6069</td>\n",
       "      <td>3.1147</td>\n",
       "      <td>6.2295</td>\n",
       "      <td>1500.7307</td>\n",
       "    </tr>\n",
       "    <tr>\n",
       "      <th>14858</th>\n",
       "      <td>031b2954-6d28-11eb-99c4-000d3a38a36f</td>\n",
       "      <td>14</td>\n",
       "      <td>15</td>\n",
       "      <td>3.0000</td>\n",
       "      <td>743.5867</td>\n",
       "      <td>778.0504</td>\n",
       "      <td>0.8818</td>\n",
       "      <td>1.7635</td>\n",
       "      <td>1439.6605</td>\n",
       "    </tr>\n",
       "    <tr>\n",
       "      <th>6717</th>\n",
       "      <td>40b4f318-9dfb-11eb-9c47-000d3a38a36f</td>\n",
       "      <td>27</td>\n",
       "      <td>33</td>\n",
       "      <td>7.0000</td>\n",
       "      <td>544.7000</td>\n",
       "      <td>555.4103</td>\n",
       "      <td>1.1779</td>\n",
       "      <td>2.3558</td>\n",
       "      <td>1372.8410</td>\n",
       "    </tr>\n",
       "    <tr>\n",
       "      <th>17963</th>\n",
       "      <td>8fd88976-6708-11ea-9d38-000d3a38a36f</td>\n",
       "      <td>50</td>\n",
       "      <td>63</td>\n",
       "      <td>7.0000</td>\n",
       "      <td>694.1986</td>\n",
       "      <td>707.6856</td>\n",
       "      <td>0.9227</td>\n",
       "      <td>1.8455</td>\n",
       "      <td>1370.3149</td>\n",
       "    </tr>\n",
       "    <tr>\n",
       "      <th>15516</th>\n",
       "      <td>9083981a-f59e-11e9-841e-000d3a38a36f</td>\n",
       "      <td>63</td>\n",
       "      <td>83</td>\n",
       "      <td>4.0000</td>\n",
       "      <td>1090.3600</td>\n",
       "      <td>1127.3545</td>\n",
       "      <td>0.5792</td>\n",
       "      <td>1.1583</td>\n",
       "      <td>1370.1294</td>\n",
       "    </tr>\n",
       "    <tr>\n",
       "      <th>4157</th>\n",
       "      <td>7eed6468-4540-11ea-acaf-000d3a38a36f</td>\n",
       "      <td>89</td>\n",
       "      <td>90</td>\n",
       "      <td>27.0000</td>\n",
       "      <td>289.7641</td>\n",
       "      <td>291.2922</td>\n",
       "      <td>2.2224</td>\n",
       "      <td>4.4448</td>\n",
       "      <td>1358.4752</td>\n",
       "    </tr>\n",
       "    <tr>\n",
       "      <th>4735</th>\n",
       "      <td>dbabb58e-6312-11ea-a6dc-000d3a38a36f</td>\n",
       "      <td>61</td>\n",
       "      <td>64</td>\n",
       "      <td>13.0000</td>\n",
       "      <td>442.1154</td>\n",
       "      <td>446.8162</td>\n",
       "      <td>1.4323</td>\n",
       "      <td>2.8646</td>\n",
       "      <td>1342.9401</td>\n",
       "    </tr>\n",
       "    <tr>\n",
       "      <th>11694</th>\n",
       "      <td>90f1b7f2-bbad-11ea-a0c9-000d3a38a36f</td>\n",
       "      <td>47</td>\n",
       "      <td>48</td>\n",
       "      <td>6.0000</td>\n",
       "      <td>647.3450</td>\n",
       "      <td>662.1103</td>\n",
       "      <td>0.9377</td>\n",
       "      <td>1.8753</td>\n",
       "      <td>1302.7810</td>\n",
       "    </tr>\n",
       "    <tr>\n",
       "      <th>11179</th>\n",
       "      <td>d2e74a36-3228-11eb-860c-000d3a38a36f</td>\n",
       "      <td>1</td>\n",
       "      <td>26</td>\n",
       "      <td>3.0000</td>\n",
       "      <td>750.5700</td>\n",
       "      <td>785.3440</td>\n",
       "      <td>0.7862</td>\n",
       "      <td>1.5724</td>\n",
       "      <td>1295.6602</td>\n",
       "    </tr>\n",
       "    <tr>\n",
       "      <th>1853</th>\n",
       "      <td>f02473b0-43c3-11eb-806e-000d3a38a36f</td>\n",
       "      <td>17</td>\n",
       "      <td>23</td>\n",
       "      <td>2.0000</td>\n",
       "      <td>835.8750</td>\n",
       "      <td>895.0369</td>\n",
       "      <td>0.6883</td>\n",
       "      <td>1.3766</td>\n",
       "      <td>1292.7769</td>\n",
       "    </tr>\n",
       "    <tr>\n",
       "      <th>5775</th>\n",
       "      <td>e31293ac-d63a-11e9-93bc-000d3a38a36f</td>\n",
       "      <td>91</td>\n",
       "      <td>93</td>\n",
       "      <td>8.0000</td>\n",
       "      <td>727.0862</td>\n",
       "      <td>739.3933</td>\n",
       "      <td>0.8297</td>\n",
       "      <td>1.6593</td>\n",
       "      <td>1287.2993</td>\n",
       "    </tr>\n",
       "    <tr>\n",
       "      <th>7312</th>\n",
       "      <td>90befc98-925a-11eb-b584-000d3a38a36f</td>\n",
       "      <td>4</td>\n",
       "      <td>8</td>\n",
       "      <td>6.0000</td>\n",
       "      <td>431.3283</td>\n",
       "      <td>441.3982</td>\n",
       "      <td>1.3869</td>\n",
       "      <td>2.7737</td>\n",
       "      <td>1284.5891</td>\n",
       "    </tr>\n",
       "  </tbody>\n",
       "</table>\n",
       "</div>"
      ],
      "text/plain": [
       "                                customer_id  recency  T_score  frequency  monetary  expected_average_profit  exp_sales_3_month  exp_sales_6_month      CLTV\n",
       "9055   47a642fe-975b-11eb-8c2a-000d3a38a36f        2        7     4.0000 1401.8000                1449.0605             1.1127             2.2255 3383.6163\n",
       "13880  7137a5c0-7aad-11ea-8f20-000d3a38a36f        6       13    11.0000  758.0855                 767.3606             1.9865             3.9731 3198.8405\n",
       "17323  f59053e2-a503-11e9-a2fc-000d3a38a36f       51      101     7.0000 1106.4671                1127.6115             0.7241             1.4481 1713.3248\n",
       "12438  625f40a2-5bd2-11ea-98b0-000d3a38a36f       74       74    16.0000  501.8737                 506.1667             1.5773             3.1546 1675.3408\n",
       "7330   a4d534a2-5b1b-11eb-8dbd-000d3a38a36f       62       67    52.0000  166.2246                 166.7123             4.6865             9.3730 1639.5120\n",
       "8868   9ce6e520-89b0-11ea-a6e7-000d3a38a36f        3       34     8.0000  601.2262                 611.4926             1.2767             2.5535 1638.2908\n",
       "6402   851de3b4-8f0c-11eb-8cb8-000d3a38a36f        8        9     2.0000  862.6900                 923.6800             0.8024             1.6047 1555.2097\n",
       "6666   53fe00d4-7b7a-11eb-960b-000d3a38a36f        9       13    17.0000  259.8653                 262.0729             2.8002             5.6003 1539.9342\n",
       "19538  55d54d9e-8ac7-11ea-8ec0-000d3a38a36f       52       58    31.0000  228.5300                 229.6069             3.1147             6.2295 1500.7307\n",
       "14858  031b2954-6d28-11eb-99c4-000d3a38a36f       14       15     3.0000  743.5867                 778.0504             0.8818             1.7635 1439.6605\n",
       "6717   40b4f318-9dfb-11eb-9c47-000d3a38a36f       27       33     7.0000  544.7000                 555.4103             1.1779             2.3558 1372.8410\n",
       "17963  8fd88976-6708-11ea-9d38-000d3a38a36f       50       63     7.0000  694.1986                 707.6856             0.9227             1.8455 1370.3149\n",
       "15516  9083981a-f59e-11e9-841e-000d3a38a36f       63       83     4.0000 1090.3600                1127.3545             0.5792             1.1583 1370.1294\n",
       "4157   7eed6468-4540-11ea-acaf-000d3a38a36f       89       90    27.0000  289.7641                 291.2922             2.2224             4.4448 1358.4752\n",
       "4735   dbabb58e-6312-11ea-a6dc-000d3a38a36f       61       64    13.0000  442.1154                 446.8162             1.4323             2.8646 1342.9401\n",
       "11694  90f1b7f2-bbad-11ea-a0c9-000d3a38a36f       47       48     6.0000  647.3450                 662.1103             0.9377             1.8753 1302.7810\n",
       "11179  d2e74a36-3228-11eb-860c-000d3a38a36f        1       26     3.0000  750.5700                 785.3440             0.7862             1.5724 1295.6602\n",
       "1853   f02473b0-43c3-11eb-806e-000d3a38a36f       17       23     2.0000  835.8750                 895.0369             0.6883             1.3766 1292.7769\n",
       "5775   e31293ac-d63a-11e9-93bc-000d3a38a36f       91       93     8.0000  727.0862                 739.3933             0.8297             1.6593 1287.2993\n",
       "7312   90befc98-925a-11eb-b584-000d3a38a36f        4        8     6.0000  431.3283                 441.3982             1.3869             2.7737 1284.5891"
      ]
     },
     "execution_count": 11,
     "metadata": {},
     "output_type": "execute_result"
    }
   ],
   "source": [
    "\"\"\"\n",
    "Calculate the 6-month CLTV and add it to the dataframe with the name \"CLTV.\"\n",
    "\"\"\"\n",
    "\n",
    "CLTV = ggf.customer_lifetime_value(bgf,\n",
    "                                   cltv['frequency'],\n",
    "                                   cltv['recency'],\n",
    "                                   cltv['T_score'],\n",
    "                                   cltv['monetary'],\n",
    "                                   time=6,  # 3 Months\n",
    "                                   freq=\"W\",  # Frequency information for T.\n",
    "                                   discount_rate=0.01)\n",
    "cltv['CLTV'] = CLTV\n",
    "\n",
    "\"\"\"\n",
    "Observe the top 20 individuals with the highest CLTV value.\n",
    "\"\"\"\n",
    "\n",
    "cltv.sort_values(\"CLTV\", ascending=False).head(20)"
   ]
  },
  {
   "cell_type": "markdown",
   "id": "610987f6",
   "metadata": {
    "papermill": {
     "duration": 0.016876,
     "end_time": "2023-10-18T09:06:00.084120",
     "exception": false,
     "start_time": "2023-10-18T09:06:00.067244",
     "status": "completed"
    },
    "tags": []
   },
   "source": [
    "### TASK 4: CREATING SEGMENTS BASED ON CLTV"
   ]
  },
  {
   "cell_type": "code",
   "execution_count": 12,
   "id": "ff64a431",
   "metadata": {
    "execution": {
     "iopub.execute_input": "2023-10-18T09:06:00.123117Z",
     "iopub.status.busy": "2023-10-18T09:06:00.122701Z",
     "iopub.status.idle": "2023-10-18T09:06:00.150930Z",
     "shell.execute_reply": "2023-10-18T09:06:00.149958Z"
    },
    "papermill": {
     "duration": 0.052661,
     "end_time": "2023-10-18T09:06:00.153732",
     "exception": false,
     "start_time": "2023-10-18T09:06:00.101071",
     "status": "completed"
    },
    "tags": []
   },
   "outputs": [
    {
     "data": {
      "text/html": [
       "<div>\n",
       "<style scoped>\n",
       "    .dataframe tbody tr th:only-of-type {\n",
       "        vertical-align: middle;\n",
       "    }\n",
       "\n",
       "    .dataframe tbody tr th {\n",
       "        vertical-align: top;\n",
       "    }\n",
       "\n",
       "    .dataframe thead th {\n",
       "        text-align: right;\n",
       "    }\n",
       "</style>\n",
       "<table border=\"1\" class=\"dataframe\">\n",
       "  <thead>\n",
       "    <tr style=\"text-align: right;\">\n",
       "      <th></th>\n",
       "      <th>recency</th>\n",
       "      <th>frequency</th>\n",
       "      <th>monetary</th>\n",
       "    </tr>\n",
       "    <tr>\n",
       "      <th>cltv_segment</th>\n",
       "      <th></th>\n",
       "      <th></th>\n",
       "      <th></th>\n",
       "    </tr>\n",
       "  </thead>\n",
       "  <tbody>\n",
       "    <tr>\n",
       "      <th>D</th>\n",
       "      <td>138.7121</td>\n",
       "      <td>3.7700</td>\n",
       "      <td>93.2319</td>\n",
       "    </tr>\n",
       "    <tr>\n",
       "      <th>C</th>\n",
       "      <td>92.2310</td>\n",
       "      <td>4.4065</td>\n",
       "      <td>125.8636</td>\n",
       "    </tr>\n",
       "    <tr>\n",
       "      <th>B</th>\n",
       "      <td>81.5068</td>\n",
       "      <td>5.0979</td>\n",
       "      <td>160.4792</td>\n",
       "    </tr>\n",
       "    <tr>\n",
       "      <th>A</th>\n",
       "      <td>66.8907</td>\n",
       "      <td>6.6384</td>\n",
       "      <td>228.8331</td>\n",
       "    </tr>\n",
       "  </tbody>\n",
       "</table>\n",
       "</div>"
      ],
      "text/plain": [
       "              recency  frequency  monetary\n",
       "cltv_segment                              \n",
       "D            138.7121     3.7700   93.2319\n",
       "C             92.2310     4.4065  125.8636\n",
       "B             81.5068     5.0979  160.4792\n",
       "A             66.8907     6.6384  228.8331"
      ]
     },
     "execution_count": 12,
     "metadata": {},
     "output_type": "execute_result"
    }
   ],
   "source": [
    "cltv[\"cltv_segment\"] = pd.qcut(cltv[\"CLTV\"], 4, labels=[\"D\", \"C\", \"B\", \"A\"])\n",
    "cltv.head()\n",
    "\n",
    "\"\"\"\n",
    "Examine the averages of recency, frequency, and monetary values for the segments.\n",
    "\"\"\"\n",
    "\n",
    "cltv.groupby(\"cltv_segment\").agg({\"recency\": \"mean\",\n",
    "                                  \"frequency\": \"mean\",\n",
    "                                  \"monetary\": \"mean\"})"
   ]
  },
  {
   "cell_type": "markdown",
   "id": "8e2782fc",
   "metadata": {
    "papermill": {
     "duration": 0.016968,
     "end_time": "2023-10-18T09:06:00.188252",
     "exception": false,
     "start_time": "2023-10-18T09:06:00.171284",
     "status": "completed"
    },
    "tags": []
   },
   "source": [
    "### TASK 5: FORMULATING HYPOTHESES AND TESTING THE HYPOTHESIS"
   ]
  },
  {
   "cell_type": "markdown",
   "id": "f7031656",
   "metadata": {
    "papermill": {
     "duration": 0.015459,
     "end_time": "2023-10-18T09:06:00.220728",
     "exception": false,
     "start_time": "2023-10-18T09:06:00.205269",
     "status": "completed"
    },
    "tags": []
   },
   "source": [
    "* TASK 5.1: Formulating the Hypothesis\n",
    "* TASK 5.2: Establishing the BG/NBD Model Related to the Hypothesis\n",
    "* TASK 5.3: Establishing the Gamma-Gamma Model Related to the Hypothesis\n",
    "* TASK 5.4: Segmenting the Periods Related to the Hypothesis\n",
    "* TASK 5.5: Confirming the Hypothesis"
   ]
  },
  {
   "cell_type": "markdown",
   "id": "12dd0b03",
   "metadata": {
    "papermill": {
     "duration": 0.015297,
     "end_time": "2023-10-18T09:06:00.253050",
     "exception": false,
     "start_time": "2023-10-18T09:06:00.237753",
     "status": "completed"
    },
    "tags": []
   },
   "source": [
    "### TASK 5.1: Formulating the Hypothesis"
   ]
  },
  {
   "cell_type": "markdown",
   "id": "8521f317",
   "metadata": {
    "papermill": {
     "duration": 0.016403,
     "end_time": "2023-10-18T09:06:00.285910",
     "exception": false,
     "start_time": "2023-10-18T09:06:00.269507",
     "status": "completed"
    },
    "tags": []
   },
   "source": [
    "HYPOTHESES:\n",
    "\n",
    "H0 (Null Hypothesis): Customer segments do not exhibit any statistically significant differences between 3, 6, 9, and 12-month CLTV calculations; in other words, customer segments have not changed over these four quarterly periods. The model is correct.\n",
    "\n",
    "H1 (Alternate Hypothesis): Customer segments exhibit statistically significant differences in at least one of the periods of 3, 6, 9, and 12-month CLTV calculations; in other words, customer segments have changed over these four quarterly periods. The model is incorrect."
   ]
  },
  {
   "cell_type": "markdown",
   "id": "9dfda546",
   "metadata": {
    "papermill": {
     "duration": 0.015868,
     "end_time": "2023-10-18T09:06:00.319358",
     "exception": false,
     "start_time": "2023-10-18T09:06:00.303490",
     "status": "completed"
    },
    "tags": []
   },
   "source": [
    "### TASK 5.2: Establishing the BG/NBD Model Related to the Hypothesis"
   ]
  },
  {
   "cell_type": "code",
   "execution_count": 13,
   "id": "24aa66de",
   "metadata": {
    "execution": {
     "iopub.execute_input": "2023-10-18T09:06:00.356444Z",
     "iopub.status.busy": "2023-10-18T09:06:00.356082Z",
     "iopub.status.idle": "2023-10-18T09:06:00.435644Z",
     "shell.execute_reply": "2023-10-18T09:06:00.434748Z"
    },
    "papermill": {
     "duration": 0.100563,
     "end_time": "2023-10-18T09:06:00.437993",
     "exception": false,
     "start_time": "2023-10-18T09:06:00.337430",
     "status": "completed"
    },
    "tags": []
   },
   "outputs": [
    {
     "data": {
      "text/html": [
       "<div>\n",
       "<style scoped>\n",
       "    .dataframe tbody tr th:only-of-type {\n",
       "        vertical-align: middle;\n",
       "    }\n",
       "\n",
       "    .dataframe tbody tr th {\n",
       "        vertical-align: top;\n",
       "    }\n",
       "\n",
       "    .dataframe thead th {\n",
       "        text-align: right;\n",
       "    }\n",
       "</style>\n",
       "<table border=\"1\" class=\"dataframe\">\n",
       "  <thead>\n",
       "    <tr style=\"text-align: right;\">\n",
       "      <th></th>\n",
       "      <th>CUSTOMER_ID</th>\n",
       "      <th>exp_sales_3_month</th>\n",
       "      <th>exp_sales_6_month</th>\n",
       "      <th>exp_sales_9_month</th>\n",
       "      <th>exp_sales_12_month</th>\n",
       "    </tr>\n",
       "  </thead>\n",
       "  <tbody>\n",
       "    <tr>\n",
       "      <th>0</th>\n",
       "      <td>cc294636-19f0-11eb-8d74-000d3a38a36f</td>\n",
       "      <td>0.9839</td>\n",
       "      <td>1.9678</td>\n",
       "      <td>2.9517</td>\n",
       "      <td>3.9356</td>\n",
       "    </tr>\n",
       "    <tr>\n",
       "      <th>1</th>\n",
       "      <td>f431bd5a-ab7b-11e9-a2fc-000d3a38a36f</td>\n",
       "      <td>0.9876</td>\n",
       "      <td>1.9753</td>\n",
       "      <td>2.9629</td>\n",
       "      <td>3.9506</td>\n",
       "    </tr>\n",
       "    <tr>\n",
       "      <th>2</th>\n",
       "      <td>69b69676-1a40-11ea-941b-000d3a38a36f</td>\n",
       "      <td>0.6762</td>\n",
       "      <td>1.3524</td>\n",
       "      <td>2.0286</td>\n",
       "      <td>2.7048</td>\n",
       "    </tr>\n",
       "    <tr>\n",
       "      <th>3</th>\n",
       "      <td>1854e56c-491f-11eb-806e-000d3a38a36f</td>\n",
       "      <td>0.7099</td>\n",
       "      <td>1.4199</td>\n",
       "      <td>2.1298</td>\n",
       "      <td>2.8397</td>\n",
       "    </tr>\n",
       "    <tr>\n",
       "      <th>4</th>\n",
       "      <td>d6ea1074-f1f5-11e9-9346-000d3a38a36f</td>\n",
       "      <td>0.3976</td>\n",
       "      <td>0.7953</td>\n",
       "      <td>1.1929</td>\n",
       "      <td>1.5905</td>\n",
       "    </tr>\n",
       "  </tbody>\n",
       "</table>\n",
       "</div>"
      ],
      "text/plain": [
       "                            CUSTOMER_ID  exp_sales_3_month  exp_sales_6_month  exp_sales_9_month  exp_sales_12_month\n",
       "0  cc294636-19f0-11eb-8d74-000d3a38a36f             0.9839             1.9678             2.9517              3.9356\n",
       "1  f431bd5a-ab7b-11e9-a2fc-000d3a38a36f             0.9876             1.9753             2.9629              3.9506\n",
       "2  69b69676-1a40-11ea-941b-000d3a38a36f             0.6762             1.3524             2.0286              2.7048\n",
       "3  1854e56c-491f-11eb-806e-000d3a38a36f             0.7099             1.4199             2.1298              2.8397\n",
       "4  d6ea1074-f1f5-11e9-9346-000d3a38a36f             0.3976             0.7953             1.1929              1.5905"
      ]
     },
     "execution_count": 13,
     "metadata": {},
     "output_type": "execute_result"
    }
   ],
   "source": [
    "CLTV_SEG_MARKETING = pd.DataFrame()\n",
    "CLTV_SEG_MARKETING[\"CUSTOMER_ID\"] = cltv[\"customer_id\"]\n",
    "\n",
    "\n",
    "CLTV_SEG_MARKETING[\"exp_sales_3_month\"] = bgf.predict(4*3,\n",
    "                                        cltv['frequency'],\n",
    "                                        cltv['recency'],\n",
    "                                        cltv['T_score'])\n",
    "CLTV_SEG_MARKETING.head()\n",
    "\n",
    "\n",
    "CLTV_SEG_MARKETING[\"exp_sales_6_month\"] = bgf.predict(4*6,\n",
    "                                        cltv['frequency'],\n",
    "                                        cltv['recency'],\n",
    "                                        cltv['T_score'])\n",
    "CLTV_SEG_MARKETING.head()\n",
    "\n",
    "CLTV_SEG_MARKETING[\"exp_sales_9_month\"] = bgf.predict(4*9,\n",
    "                                        cltv['frequency'],\n",
    "                                        cltv['recency'],\n",
    "                                        cltv['T_score'])\n",
    "CLTV_SEG_MARKETING.head()\n",
    "\n",
    "CLTV_SEG_MARKETING[\"exp_sales_12_month\"] = bgf.predict(4*12,\n",
    "                                        cltv['frequency'],\n",
    "                                        cltv['recency'],\n",
    "                                        cltv['T_score'])\n",
    "CLTV_SEG_MARKETING.head()"
   ]
  },
  {
   "cell_type": "markdown",
   "id": "f8620dd1",
   "metadata": {
    "papermill": {
     "duration": 0.016859,
     "end_time": "2023-10-18T09:06:00.470706",
     "exception": false,
     "start_time": "2023-10-18T09:06:00.453847",
     "status": "completed"
    },
    "tags": []
   },
   "source": [
    "### TASK 5.3: Establishing the Gamma-Gamma Model Related to the Hypothesis"
   ]
  },
  {
   "cell_type": "code",
   "execution_count": 14,
   "id": "a5ce77ee",
   "metadata": {
    "execution": {
     "iopub.execute_input": "2023-10-18T09:06:00.505045Z",
     "iopub.status.busy": "2023-10-18T09:06:00.503517Z",
     "iopub.status.idle": "2023-10-18T09:06:01.389195Z",
     "shell.execute_reply": "2023-10-18T09:06:01.387377Z"
    },
    "papermill": {
     "duration": 0.905765,
     "end_time": "2023-10-18T09:06:01.392082",
     "exception": false,
     "start_time": "2023-10-18T09:06:00.486317",
     "status": "completed"
    },
    "tags": []
   },
   "outputs": [],
   "source": [
    "CLTV_3 = ggf.customer_lifetime_value(bgf,\n",
    "                                   cltv['frequency'],\n",
    "                                   cltv['recency'],\n",
    "                                   cltv['T_score'],\n",
    "                                   cltv['monetary'],\n",
    "                                   time=3,  # 3 Months\n",
    "                                   freq=\"W\",  # Frequency information for T.\n",
    "                                   discount_rate=0.01)\n",
    "CLTV_SEG_MARKETING['CLTV_3'] = CLTV_3\n",
    "\n",
    "\n",
    "CLTV_6 = ggf.customer_lifetime_value(bgf,\n",
    "                                   cltv['frequency'],\n",
    "                                   cltv['recency'],\n",
    "                                   cltv['T_score'],\n",
    "                                   cltv['monetary'],\n",
    "                                   time=6,  # 6 Months\n",
    "                                   freq=\"W\",  # Frequency information for T.\n",
    "                                   discount_rate=0.01)\n",
    "CLTV_SEG_MARKETING['CLTV_6'] = CLTV_6\n",
    "\n",
    "CLTV_9 = ggf.customer_lifetime_value(bgf,\n",
    "                                   cltv['frequency'],\n",
    "                                   cltv['recency'],\n",
    "                                   cltv['T_score'],\n",
    "                                   cltv['monetary'],\n",
    "                                   time=9,  # 9 Months\n",
    "                                   freq=\"W\",  # Frequency information for T.\n",
    "                                   discount_rate=0.01)\n",
    "CLTV_SEG_MARKETING['CLTV_9'] = CLTV_9\n",
    "\n",
    "CLTV_12 = ggf.customer_lifetime_value(bgf,\n",
    "                                   cltv['frequency'],\n",
    "                                   cltv['recency'],\n",
    "                                   cltv['T_score'],\n",
    "                                   cltv['monetary'],\n",
    "                                   time=12,  # 12 Months\n",
    "                                   freq=\"W\",  # Frequency information for T.\n",
    "                                   discount_rate=0.01)\n",
    "CLTV_SEG_MARKETING['CLTV_12'] = CLTV_12"
   ]
  },
  {
   "cell_type": "markdown",
   "id": "3e7cbd40",
   "metadata": {
    "papermill": {
     "duration": 0.017106,
     "end_time": "2023-10-18T09:06:01.427330",
     "exception": false,
     "start_time": "2023-10-18T09:06:01.410224",
     "status": "completed"
    },
    "tags": []
   },
   "source": [
    "#### TASK 5.4: Segmenting the Periods Related to the Hypothesis"
   ]
  },
  {
   "cell_type": "code",
   "execution_count": 15,
   "id": "7012fcbd",
   "metadata": {
    "execution": {
     "iopub.execute_input": "2023-10-18T09:06:01.464866Z",
     "iopub.status.busy": "2023-10-18T09:06:01.464429Z",
     "iopub.status.idle": "2023-10-18T09:06:01.487177Z",
     "shell.execute_reply": "2023-10-18T09:06:01.486030Z"
    },
    "papermill": {
     "duration": 0.044367,
     "end_time": "2023-10-18T09:06:01.489450",
     "exception": false,
     "start_time": "2023-10-18T09:06:01.445083",
     "status": "completed"
    },
    "tags": []
   },
   "outputs": [],
   "source": [
    "CLTV_SEG_MARKETING[\"SEGMENT_3\"] = pd.qcut(CLTV_SEG_MARKETING[\"CLTV_3\"], 4, labels=[\"D\", \"C\", \"B\", \"A\"])\n",
    "CLTV_SEG_MARKETING[\"SEGMENT_6\"] = pd.qcut(CLTV_SEG_MARKETING[\"CLTV_6\"], 4, labels=[\"D\", \"C\", \"B\", \"A\"])\n",
    "CLTV_SEG_MARKETING[\"SEGMENT_9\"] = pd.qcut(CLTV_SEG_MARKETING[\"CLTV_9\"], 4, labels=[\"D\", \"C\", \"B\", \"A\"])\n",
    "CLTV_SEG_MARKETING[\"SEGMENT_12\"] = pd.qcut(CLTV_SEG_MARKETING[\"CLTV_12\"], 4, labels=[\"D\", \"C\", \"B\", \"A\"])"
   ]
  },
  {
   "cell_type": "markdown",
   "id": "7f0da212",
   "metadata": {
    "papermill": {
     "duration": 0.015945,
     "end_time": "2023-10-18T09:06:01.522361",
     "exception": false,
     "start_time": "2023-10-18T09:06:01.506416",
     "status": "completed"
    },
    "tags": []
   },
   "source": [
    "#### TASK 5.5: Confirming the Hypothesis"
   ]
  },
  {
   "cell_type": "code",
   "execution_count": 16,
   "id": "790f5f75",
   "metadata": {
    "execution": {
     "iopub.execute_input": "2023-10-18T09:06:01.555614Z",
     "iopub.status.busy": "2023-10-18T09:06:01.555015Z",
     "iopub.status.idle": "2023-10-18T09:09:18.174744Z",
     "shell.execute_reply": "2023-10-18T09:09:18.173436Z"
    },
    "papermill": {
     "duration": 196.655012,
     "end_time": "2023-10-18T09:09:18.192895",
     "exception": false,
     "start_time": "2023-10-18T09:06:01.537883",
     "status": "completed"
    },
    "tags": []
   },
   "outputs": [
    {
     "name": "stdout",
     "output_type": "stream",
     "text": [
      "True\n"
     ]
    }
   ],
   "source": [
    "result = True\n",
    "\n",
    "for CUSTOMER_ID in CLTV_SEG_MARKETING['CUSTOMER_ID'].values:\n",
    "    SEGMENT_3 = CLTV_SEG_MARKETING[CLTV_SEG_MARKETING['CUSTOMER_ID'] == CUSTOMER_ID]['SEGMENT_3'].values[0]\n",
    "    SEGMENT_6 = CLTV_SEG_MARKETING[CLTV_SEG_MARKETING['CUSTOMER_ID'] == CUSTOMER_ID]['SEGMENT_6'].values[0]\n",
    "    SEGMENT_9 = CLTV_SEG_MARKETING[CLTV_SEG_MARKETING['CUSTOMER_ID'] == CUSTOMER_ID]['SEGMENT_9'].values[0]\n",
    "    SEGMENT_12 = CLTV_SEG_MARKETING[CLTV_SEG_MARKETING['CUSTOMER_ID'] == CUSTOMER_ID]['SEGMENT_12'].values[0]\n",
    "\n",
    "    if (SEGMENT_3 == SEGMENT_6) and (SEGMENT_6 == SEGMENT_9) and (SEGMENT_9 == SEGMENT_12):\n",
    "        pass\n",
    "    else:\n",
    "        result = False\n",
    "\n",
    "print(result)\n",
    "\n",
    "CLTV_SEG_MARKETING[\"SEGMENT\"] = CLTV_SEG_MARKETING[\"SEGMENT_3\"]"
   ]
  },
  {
   "cell_type": "markdown",
   "id": "f5426ad2",
   "metadata": {
    "papermill": {
     "duration": 0.015364,
     "end_time": "2023-10-18T09:09:18.224131",
     "exception": false,
     "start_time": "2023-10-18T09:09:18.208767",
     "status": "completed"
    },
    "tags": []
   },
   "source": [
    "### TASK 6: CREATING STRATEGIES FOR CUSTOMER SEGMENTS"
   ]
  },
  {
   "cell_type": "markdown",
   "id": "ea8eb94f",
   "metadata": {
    "papermill": {
     "duration": 0.017202,
     "end_time": "2023-10-18T09:09:18.258279",
     "exception": false,
     "start_time": "2023-10-18T09:09:18.241077",
     "status": "completed"
    },
    "tags": []
   },
   "source": [
    "The hypothesis has been confirmed, and the model's accuracy has also been verified. Customer segments have been successfully predicted, providing valuable insights into customer shopping habits. Strategies are being formulated based on these segments, and plans are in place to send tailored and effective messages to customers. These strategies will be used to encourage customer purchases, ultimately boosting results."
   ]
  },
  {
   "cell_type": "code",
   "execution_count": 17,
   "id": "a813fadd",
   "metadata": {
    "execution": {
     "iopub.execute_input": "2023-10-18T09:09:18.294907Z",
     "iopub.status.busy": "2023-10-18T09:09:18.294127Z",
     "iopub.status.idle": "2023-10-18T09:09:18.415202Z",
     "shell.execute_reply": "2023-10-18T09:09:18.413268Z"
    },
    "papermill": {
     "duration": 0.143217,
     "end_time": "2023-10-18T09:09:18.418470",
     "exception": false,
     "start_time": "2023-10-18T09:09:18.275253",
     "status": "completed"
    },
    "tags": []
   },
   "outputs": [],
   "source": [
    "campaigns = {\n",
    "    \"A\": \"For segment A, we are offering exclusive opportunities to our customers by pre-ordering our brand's new Limited Edition products.\",\n",
    "    \"B\": \"For segment B, we are offering a special 20% discount on selected products!\",\n",
    "    \"C\": \"For segment C, we are offering the opportunity to earn a 50 TL gift voucher for every 500 TL spent on purchases.\",\n",
    "    \"D\": \"For segment D, we are welcoming customers with a 10% discount through our Welcome campaign!\"\n",
    "}\n",
    "\n",
    "\n",
    "\"\"\"\n",
    "Assign the appropriate campaign message to each customer.\n",
    "\"\"\"\n",
    "\n",
    "CLTV_SEG_MARKETING['Campaign_Message'] = CLTV_SEG_MARKETING['SEGMENT'].map(campaigns)\n",
    "\n",
    "CLTV_SEG_MARKETING[['CUSTOMER_ID', 'SEGMENT', 'Campaign_Message']]\n",
    "\n",
    "\"\"\"\n",
    "The marketing department is requesting a CSV file that includes the 'CUSTOMER_ID,' 'SEGMENT,' and 'Campaign_Message' variables.\n",
    "\"\"\"\n",
    "\n",
    "MARKETING = CLTV_SEG_MARKETING[['CUSTOMER_ID', 'SEGMENT', 'Campaign_Message']]\n",
    "MARKETING.to_csv(\"MARKETING\", index=False)"
   ]
  }
 ],
 "metadata": {
  "kernelspec": {
   "display_name": "Python 3",
   "language": "python",
   "name": "python3"
  },
  "language_info": {
   "codemirror_mode": {
    "name": "ipython",
    "version": 3
   },
   "file_extension": ".py",
   "mimetype": "text/x-python",
   "name": "python",
   "nbconvert_exporter": "python",
   "pygments_lexer": "ipython3",
   "version": "3.10.12"
  },
  "papermill": {
   "default_parameters": {},
   "duration": 223.242148,
   "end_time": "2023-10-18T09:09:19.258606",
   "environment_variables": {},
   "exception": null,
   "input_path": "__notebook__.ipynb",
   "output_path": "__notebook__.ipynb",
   "parameters": {},
   "start_time": "2023-10-18T09:05:36.016458",
   "version": "2.4.0"
  }
 },
 "nbformat": 4,
 "nbformat_minor": 5
}
